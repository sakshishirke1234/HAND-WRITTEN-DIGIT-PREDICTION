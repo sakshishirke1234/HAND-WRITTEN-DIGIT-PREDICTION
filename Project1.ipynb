{
  "nbformat": 4,
  "nbformat_minor": 0,
  "metadata": {
    "colab": {
      "provenance": []
    },
    "kernelspec": {
      "name": "python3",
      "display_name": "Python 3"
    },
    "language_info": {
      "name": "python"
    }
  },
  "cells": [
    {
      "cell_type": "markdown",
      "source": [
        "**HAND WRITTEN DIGIT PREDICTION**"
      ],
      "metadata": {
        "id": "dVKA2xYFAEq2"
      }
    },
    {
      "cell_type": "markdown",
      "source": [
        "**Import Library**"
      ],
      "metadata": {
        "id": "ntC9gTfHqQPQ"
      }
    },
    {
      "cell_type": "code",
      "source": [
        "import pandas as pd"
      ],
      "metadata": {
        "id": "uNTHHRAKAQ1J"
      },
      "execution_count": 2,
      "outputs": []
    },
    {
      "cell_type": "code",
      "source": [
        "import numpy as np"
      ],
      "metadata": {
        "id": "A9wxNh-v_3Q5"
      },
      "execution_count": 3,
      "outputs": []
    },
    {
      "cell_type": "code",
      "source": [
        "import matplotlib.pyplot as plt\n"
      ],
      "metadata": {
        "id": "n-rmpc1CAVwv"
      },
      "execution_count": 4,
      "outputs": []
    },
    {
      "cell_type": "markdown",
      "source": [
        "**Step 2: Import Data**"
      ],
      "metadata": {
        "id": "jJsZ2bGwAg9q"
      }
    },
    {
      "cell_type": "code",
      "source": [
        "from sklearn.datasets import load_digits"
      ],
      "metadata": {
        "id": "loBpf445ApMs"
      },
      "execution_count": 5,
      "outputs": []
    },
    {
      "cell_type": "code",
      "source": [
        "df= load_digits()"
      ],
      "metadata": {
        "id": "a-vDRFV3Az0G"
      },
      "execution_count": 6,
      "outputs": []
    },
    {
      "cell_type": "code",
      "source": [
        "_, axes =plt.subplots(nrows=1, ncols=4, figsize=(10,3))\n",
        "for ax, image, label in zip(axes, df.images, df.target):\n",
        "  ax.set_axis_off()\n",
        "  ax.imshow(image, cmap=plt.cm.gray_r, interpolation=\"nearest\")\n",
        "  ax.set_title(\"Training : %i\" % label)"
      ],
      "metadata": {
        "colab": {
          "base_uri": "https://localhost:8080/",
          "height": 227
        },
        "id": "Ig6jqBJ3A5hc",
        "outputId": "82e3addd-b646-4e12-9284-2e60e5070f94"
      },
      "execution_count": 7,
      "outputs": [
        {
          "output_type": "display_data",
          "data": {
            "text/plain": [
              "<Figure size 1000x300 with 4 Axes>"
            ],
            "image/png": "[encoded data removed]"
          },
          "metadata": {}
        }
      ]
    },
    {
      "cell_type": "markdown",
      "source": [
        "**Step 3:Data Preprocessing**\n"
      ],
      "metadata": {
        "id": "ySeMtqknB24P"
      }
    },
    {
      "cell_type": "code",
      "source": [
        "df.images.shape"
      ],
      "metadata": {
        "colab": {
          "base_uri": "https://localhost:8080/"
        },
        "id": "gWRcWoSwB_eM",
        "outputId": "a5b824e0-6da6-4d33-b1f5-2ed0aee0547c"
      },
      "execution_count": 8,
      "outputs": [
        {
          "output_type": "execute_result",
          "data": {
            "text/plain": [
              "(1797, 8, 8)"
            ]
          },
          "metadata": {},
          "execution_count": 8
        }
      ]
    },
    {
      "cell_type": "code",
      "source": [
        "df.images[0]"
      ],
      "metadata": {
        "colab": {
          "base_uri": "https://localhost:8080/"
        },
        "id": "dNIfDkdhCKfv",
        "outputId": "e786de22-fd25-49b5-d83a-43d9cfde8ba5"
      },
      "execution_count": 9,
      "outputs": [
        {
          "output_type": "execute_result",
          "data": {
            "text/plain": [
              "array([[ 0.,  0.,  5., 13.,  9.,  1.,  0.,  0.],\n",
              "       [ 0.,  0., 13., 15., 10., 15.,  5.,  0.],\n",
              "       [ 0.,  3., 15.,  2.,  0., 11.,  8.,  0.],\n",
              "       [ 0.,  4., 12.,  0.,  0.,  8.,  8.,  0.],\n",
              "       [ 0.,  5.,  8.,  0.,  0.,  9.,  8.,  0.],\n",
              "       [ 0.,  4., 11.,  0.,  1., 12.,  7.,  0.],\n",
              "       [ 0.,  2., 14.,  5., 10., 12.,  0.,  0.],\n",
              "       [ 0.,  0.,  6., 13., 10.,  0.,  0.,  0.]])"
            ]
          },
          "metadata": {},
          "execution_count": 9
        }
      ]
    },
    {
      "cell_type": "code",
      "source": [
        "df.images[0].shape"
      ],
      "metadata": {
        "colab": {
          "base_uri": "https://localhost:8080/"
        },
        "id": "beyxTQNFCRzm",
        "outputId": "9f000876-13ff-4eca-906a-eb1e0bf32849"
      },
      "execution_count": 10,
      "outputs": [
        {
          "output_type": "execute_result",
          "data": {
            "text/plain": [
              "(8, 8)"
            ]
          },
          "metadata": {},
          "execution_count": 10
        }
      ]
    },
    {
      "cell_type": "code",
      "source": [
        "len(df.images)"
      ],
      "metadata": {
        "id": "WZAPPK4kKE8f",
        "colab": {
          "base_uri": "https://localhost:8080/"
        },
        "outputId": "ce39c18a-7e58-4c6a-c23d-8e22512d0590"
      },
      "execution_count": 11,
      "outputs": [
        {
          "output_type": "execute_result",
          "data": {
            "text/plain": [
              "1797"
            ]
          },
          "metadata": {},
          "execution_count": 11
        }
      ]
    },
    {
      "cell_type": "code",
      "source": [
        "n_samples = len(df.images)\n",
        "data = df.images.reshape((n_samples, -1))"
      ],
      "metadata": {
        "id": "RQ370U4bKfit"
      },
      "execution_count": 12,
      "outputs": []
    },
    {
      "cell_type": "code",
      "source": [
        "data[0]"
      ],
      "metadata": {
        "colab": {
          "base_uri": "https://localhost:8080/"
        },
        "id": "0MDoGGOokvL1",
        "outputId": "1a45fa1a-e4a9-4ae0-a312-ec454776f7db"
      },
      "execution_count": 13,
      "outputs": [
        {
          "output_type": "execute_result",
          "data": {
            "text/plain": [
              "array([ 0.,  0.,  5., 13.,  9.,  1.,  0.,  0.,  0.,  0., 13., 15., 10.,\n",
              "       15.,  5.,  0.,  0.,  3., 15.,  2.,  0., 11.,  8.,  0.,  0.,  4.,\n",
              "       12.,  0.,  0.,  8.,  8.,  0.,  0.,  5.,  8.,  0.,  0.,  9.,  8.,\n",
              "        0.,  0.,  4., 11.,  0.,  1., 12.,  7.,  0.,  0.,  2., 14.,  5.,\n",
              "       10., 12.,  0.,  0.,  0.,  0.,  6., 13., 10.,  0.,  0.,  0.])"
            ]
          },
          "metadata": {},
          "execution_count": 13
        }
      ]
    },
    {
      "cell_type": "code",
      "source": [
        "data[0].shape"
      ],
      "metadata": {
        "colab": {
          "base_uri": "https://localhost:8080/"
        },
        "id": "fFTMdSw2k1WN",
        "outputId": "3f0564e2-b268-479a-e0b7-12fe3ba955df"
      },
      "execution_count": 14,
      "outputs": [
        {
          "output_type": "execute_result",
          "data": {
            "text/plain": [
              "(64,)"
            ]
          },
          "metadata": {},
          "execution_count": 14
        }
      ]
    },
    {
      "cell_type": "code",
      "source": [
        "data.shape"
      ],
      "metadata": {
        "colab": {
          "base_uri": "https://localhost:8080/"
        },
        "id": "A-n0ZsOflBu5",
        "outputId": "45e92a40-59b8-4626-bcf6-243277a3b662"
      },
      "execution_count": 15,
      "outputs": [
        {
          "output_type": "execute_result",
          "data": {
            "text/plain": [
              "(1797, 64)"
            ]
          },
          "metadata": {},
          "execution_count": 15
        }
      ]
    },
    {
      "cell_type": "markdown",
      "source": [
        "**Scaling Image Data **\n",
        "\n"
      ],
      "metadata": {
        "id": "timrZWuNlGL5"
      }
    },
    {
      "cell_type": "code",
      "source": [
        "data.min()"
      ],
      "metadata": {
        "colab": {
          "base_uri": "https://localhost:8080/"
        },
        "id": "1bZz2_MnlVS8",
        "outputId": "57eb8eba-86a0-41d9-e6dc-25601592488c"
      },
      "execution_count": 16,
      "outputs": [
        {
          "output_type": "execute_result",
          "data": {
            "text/plain": [
              "0.0"
            ]
          },
          "metadata": {},
          "execution_count": 16
        }
      ]
    },
    {
      "cell_type": "code",
      "source": [
        "data.max()"
      ],
      "metadata": {
        "colab": {
          "base_uri": "https://localhost:8080/"
        },
        "id": "rADEypjslbdH",
        "outputId": "42dfc1b6-558d-4241-896b-ca78e03b0a66"
      },
      "execution_count": 17,
      "outputs": [
        {
          "output_type": "execute_result",
          "data": {
            "text/plain": [
              "16.0"
            ]
          },
          "metadata": {},
          "execution_count": 17
        }
      ]
    },
    {
      "cell_type": "code",
      "source": [
        "data = data/16"
      ],
      "metadata": {
        "id": "2y7-E1QflvJd"
      },
      "execution_count": 20,
      "outputs": []
    },
    {
      "cell_type": "code",
      "source": [
        "data.min()"
      ],
      "metadata": {
        "colab": {
          "base_uri": "https://localhost:8080/"
        },
        "id": "fzZEWpHhl5JO",
        "outputId": "a23b733d-754f-4d67-aafa-0206f9225f7d"
      },
      "execution_count": 21,
      "outputs": [
        {
          "output_type": "execute_result",
          "data": {
            "text/plain": [
              "0.0"
            ]
          },
          "metadata": {},
          "execution_count": 21
        }
      ]
    },
    {
      "cell_type": "code",
      "source": [
        "data.max()"
      ],
      "metadata": {
        "colab": {
          "base_uri": "https://localhost:8080/"
        },
        "id": "jEVV-BMol8OT",
        "outputId": "790117c3-d9da-4448-c9a5-3e81f48d0dc7"
      },
      "execution_count": 22,
      "outputs": [
        {
          "output_type": "execute_result",
          "data": {
            "text/plain": [
              "0.0625"
            ]
          },
          "metadata": {},
          "execution_count": 22
        }
      ]
    },
    {
      "cell_type": "code",
      "source": [
        "data[0]"
      ],
      "metadata": {
        "colab": {
          "base_uri": "https://localhost:8080/"
        },
        "id": "oV21X7eAmEoa",
        "outputId": "413771f3-26f6-43c2-c1e2-16245b37747d"
      },
      "execution_count": 23,
      "outputs": [
        {
          "output_type": "execute_result",
          "data": {
            "text/plain": [
              "array([0.        , 0.        , 0.01953125, 0.05078125, 0.03515625,\n",
              "       0.00390625, 0.        , 0.        , 0.        , 0.        ,\n",
              "       0.05078125, 0.05859375, 0.0390625 , 0.05859375, 0.01953125,\n",
              "       0.        , 0.        , 0.01171875, 0.05859375, 0.0078125 ,\n",
              "       0.        , 0.04296875, 0.03125   , 0.        , 0.        ,\n",
              "       0.015625  , 0.046875  , 0.        , 0.        , 0.03125   ,\n",
              "       0.03125   , 0.        , 0.        , 0.01953125, 0.03125   ,\n",
              "       0.        , 0.        , 0.03515625, 0.03125   , 0.        ,\n",
              "       0.        , 0.015625  , 0.04296875, 0.        , 0.00390625,\n",
              "       0.046875  , 0.02734375, 0.        , 0.        , 0.0078125 ,\n",
              "       0.0546875 , 0.01953125, 0.0390625 , 0.046875  , 0.        ,\n",
              "       0.        , 0.        , 0.        , 0.0234375 , 0.05078125,\n",
              "       0.0390625 , 0.        , 0.        , 0.        ])"
            ]
          },
          "metadata": {},
          "execution_count": 23
        }
      ]
    },
    {
      "cell_type": "markdown",
      "source": [
        "**Train Test Split Data**"
      ],
      "metadata": {
        "id": "g2A1Z_SZmMTM"
      }
    },
    {
      "cell_type": "code",
      "source": [
        "from sklearn.model_selection import train_test_split"
      ],
      "metadata": {
        "id": "rOiNHJs7mRrD"
      },
      "execution_count": 24,
      "outputs": []
    },
    {
      "cell_type": "code",
      "source": [
        "X_train,X_test,y_train,y_test= train_test_split(data,df.target,test_size=0.3)"
      ],
      "metadata": {
        "id": "PW2resfMmcHL"
      },
      "execution_count": 25,
      "outputs": []
    },
    {
      "cell_type": "code",
      "source": [
        "X_train.shape,X_test.shape,y_train.shape,y_test.shape"
      ],
      "metadata": {
        "colab": {
          "base_uri": "https://localhost:8080/"
        },
        "id": "yjwSSMKymuDC",
        "outputId": "335dac3b-4fbb-4a4b-ada4-64040ba036e7"
      },
      "execution_count": 26,
      "outputs": [
        {
          "output_type": "execute_result",
          "data": {
            "text/plain": [
              "((1257, 64), (540, 64), (1257,), (540,))"
            ]
          },
          "metadata": {},
          "execution_count": 26
        }
      ]
    },
    {
      "cell_type": "markdown",
      "source": [
        "**Random forest Model**"
      ],
      "metadata": {
        "id": "VqrIE3fznD22"
      }
    },
    {
      "cell_type": "code",
      "source": [
        "from sklearn.ensemble import RandomForestClassifier"
      ],
      "metadata": {
        "id": "KVLZKeH4nIMI"
      },
      "execution_count": 27,
      "outputs": []
    },
    {
      "cell_type": "code",
      "source": [
        "rf = RandomForestClassifier()"
      ],
      "metadata": {
        "id": "y464C-cbnTlt"
      },
      "execution_count": 28,
      "outputs": []
    },
    {
      "cell_type": "code",
      "source": [
        "rf.fit(X_train,y_train)"
      ],
      "metadata": {
        "colab": {
          "base_uri": "https://localhost:8080/",
          "height": 74
        },
        "id": "GnJt4l4KnYjp",
        "outputId": "09c7922e-1884-4efa-b058-fab7804cd85d"
      },
      "execution_count": 29,
      "outputs": [
        {
          "output_type": "execute_result",
          "data": {
            "text/plain": [
              "RandomForestClassifier()"
            ],
            "text/html": [
              "<style>#sk-container-id-1 {color: black;background-color: white;}#sk-container-id-1 pre{padding: 0;}#sk-container-id-1 div.sk-toggleable {background-color: white;}#sk-container-id-1 label.sk-toggleable__label {cursor: pointer;display: block;width: 100%;margin-bottom: 0;padding: 0.3em;box-sizing: border-box;text-align: center;}#sk-container-id-1 label.sk-toggleable__label-arrow:before {content: \"▸\";float: left;margin-right: 0.25em;color: #696969;}#sk-container-id-1 label.sk-toggleable__label-arrow:hover:before {color: black;}#sk-container-id-1 div.sk-estimator:hover label.sk-toggleable__label-arrow:before {color: black;}#sk-container-id-1 div.sk-toggleable__content {max-height: 0;max-width: 0;overflow: hidden;text-align: left;background-color: #f0f8ff;}#sk-container-id-1 div.sk-toggleable__content pre {margin: 0.2em;color: black;border-radius: 0.25em;background-color: #f0f8ff;}#sk-container-id-1 input.sk-toggleable__control:checked~div.sk-toggleable__content {max-height: 200px;max-width: 100%;overflow: auto;}#sk-container-id-1 input.sk-toggleable__control:checked~label.sk-toggleable__label-arrow:before {content: \"▾\";}#sk-container-id-1 div.sk-estimator input.sk-toggleable__control:checked~label.sk-toggleable__label {background-color: #d4ebff;}#sk-container-id-1 div.sk-label input.sk-toggleable__control:checked~label.sk-toggleable__label {background-color: #d4ebff;}#sk-container-id-1 input.sk-hidden--visually {border: 0;clip: rect(1px 1px 1px 1px);clip: rect(1px, 1px, 1px, 1px);height: 1px;margin: -1px;overflow: hidden;padding: 0;position: absolute;width: 1px;}#sk-container-id-1 div.sk-estimator {font-family: monospace;background-color: #f0f8ff;border: 1px dotted black;border-radius: 0.25em;box-sizing: border-box;margin-bottom: 0.5em;}#sk-container-id-1 div.sk-estimator:hover {background-color: #d4ebff;}#sk-container-id-1 div.sk-parallel-item::after {content: \"\";width: 100%;border-bottom: 1px solid gray;flex-grow: 1;}#sk-container-id-1 div.sk-label:hover label.sk-toggleable__label {background-color: #d4ebff;}#sk-container-id-1 div.sk-serial::before {content: \"\";position: absolute;border-left: 1px solid gray;box-sizing: border-box;top: 0;bottom: 0;left: 50%;z-index: 0;}#sk-container-id-1 div.sk-serial {display: flex;flex-direction: column;align-items: center;background-color: white;padding-right: 0.2em;padding-left: 0.2em;position: relative;}#sk-container-id-1 div.sk-item {position: relative;z-index: 1;}#sk-container-id-1 div.sk-parallel {display: flex;align-items: stretch;justify-content: center;background-color: white;position: relative;}#sk-container-id-1 div.sk-item::before, #sk-container-id-1 div.sk-parallel-item::before {content: \"\";position: absolute;border-left: 1px solid gray;box-sizing: border-box;top: 0;bottom: 0;left: 50%;z-index: -1;}#sk-container-id-1 div.sk-parallel-item {display: flex;flex-direction: column;z-index: 1;position: relative;background-color: white;}#sk-container-id-1 div.sk-parallel-item:first-child::after {align-self: flex-end;width: 50%;}#sk-container-id-1 div.sk-parallel-item:last-child::after {align-self: flex-start;width: 50%;}#sk-container-id-1 div.sk-parallel-item:only-child::after {width: 0;}#sk-container-id-1 div.sk-dashed-wrapped {border: 1px dashed gray;margin: 0 0.4em 0.5em 0.4em;box-sizing: border-box;padding-bottom: 0.4em;background-color: white;}#sk-container-id-1 div.sk-label label {font-family: monospace;font-weight: bold;display: inline-block;line-height: 1.2em;}#sk-container-id-1 div.sk-label-container {text-align: center;}#sk-container-id-1 div.sk-container {/* jupyter's `normalize.less` sets `[hidden] { display: none; }` but bootstrap.min.css set `[hidden] { display: none !important; }` so we also need the `!important` here to be able to override the default hidden behavior on the sphinx rendered scikit-learn.org. See: https://github.com/scikit-learn/scikit-learn/issues/21755 */display: inline-block !important;position: relative;}#sk-container-id-1 div.sk-text-repr-fallback {display: none;}</style><div id=\"sk-container-id-1\" class=\"sk-top-container\"><div class=\"sk-text-repr-fallback\"><pre>RandomForestClassifier()</pre><b>In a Jupyter environment, please rerun this cell to show the HTML representation or trust the notebook. <br />On GitHub, the HTML representation is unable to render, please try loading this page with nbviewer.org.</b></div><div class=\"sk-container\" hidden><div class=\"sk-item\"><div class=\"sk-estimator sk-toggleable\"><input class=\"sk-toggleable__control sk-hidden--visually\" id=\"sk-estimator-id-1\" type=\"checkbox\" checked><label for=\"sk-estimator-id-1\" class=\"sk-toggleable__label sk-toggleable__label-arrow\">RandomForestClassifier</label><div class=\"sk-toggleable__content\"><pre>RandomForestClassifier()</pre></div></div></div></div></div>"
            ]
          },
          "metadata": {},
          "execution_count": 29
        }
      ]
    },
    {
      "cell_type": "markdown",
      "source": [
        "**Predict Test Data**"
      ],
      "metadata": {
        "id": "wM_U63qJnnxK"
      }
    },
    {
      "cell_type": "code",
      "source": [
        "y_pred = rf.predict(X_test)"
      ],
      "metadata": {
        "id": "VrAzynn5nswp"
      },
      "execution_count": 30,
      "outputs": []
    },
    {
      "cell_type": "code",
      "source": [
        "y_pred"
      ],
      "metadata": {
        "colab": {
          "base_uri": "https://localhost:8080/"
        },
        "id": "x8a13YYXn06i",
        "outputId": "a67ba26f-6402-4114-f05b-e2a4c70af108"
      },
      "execution_count": 31,
      "outputs": [
        {
          "output_type": "execute_result",
          "data": {
            "text/plain": [
              "array([8, 7, 8, 6, 9, 8, 7, 0, 4, 9, 0, 1, 4, 2, 0, 8, 8, 2, 4, 5, 8, 9,\n",
              "       0, 6, 2, 0, 7, 4, 6, 1, 2, 7, 1, 5, 9, 3, 1, 8, 9, 2, 7, 0, 9, 6,\n",
              "       0, 8, 5, 5, 6, 8, 5, 8, 4, 2, 4, 9, 5, 8, 2, 5, 8, 0, 7, 8, 7, 0,\n",
              "       5, 4, 0, 4, 0, 8, 6, 3, 3, 6, 1, 9, 3, 1, 4, 6, 3, 5, 5, 0, 6, 0,\n",
              "       0, 6, 5, 0, 4, 3, 2, 8, 0, 0, 0, 1, 5, 9, 5, 5, 2, 6, 8, 4, 0, 9,\n",
              "       1, 6, 7, 7, 4, 2, 7, 9, 8, 6, 2, 4, 2, 1, 7, 9, 1, 0, 6, 5, 4, 4,\n",
              "       4, 9, 6, 1, 2, 3, 3, 9, 4, 2, 8, 7, 0, 2, 8, 6, 8, 1, 5, 9, 3, 2,\n",
              "       9, 9, 2, 3, 3, 6, 2, 8, 9, 9, 5, 6, 8, 8, 1, 7, 9, 0, 9, 2, 4, 6,\n",
              "       4, 8, 1, 3, 9, 3, 7, 2, 9, 2, 0, 4, 2, 1, 7, 2, 3, 5, 7, 7, 1, 4,\n",
              "       1, 3, 2, 1, 5, 7, 1, 9, 3, 1, 8, 6, 9, 1, 3, 5, 3, 3, 6, 9, 7, 0,\n",
              "       8, 8, 6, 4, 8, 4, 2, 7, 3, 0, 0, 5, 5, 2, 5, 9, 6, 8, 5, 1, 7, 4,\n",
              "       7, 3, 5, 6, 0, 0, 5, 1, 2, 5, 7, 1, 0, 8, 2, 6, 0, 7, 5, 0, 2, 3,\n",
              "       1, 3, 8, 9, 5, 9, 7, 4, 7, 6, 1, 6, 0, 9, 2, 8, 3, 9, 5, 4, 0, 0,\n",
              "       8, 5, 3, 1, 6, 9, 5, 5, 1, 2, 8, 1, 5, 1, 1, 1, 6, 0, 7, 8, 3, 5,\n",
              "       5, 4, 1, 5, 5, 3, 1, 7, 1, 4, 5, 4, 1, 3, 0, 6, 0, 0, 6, 3, 6, 6,\n",
              "       9, 6, 2, 7, 3, 6, 7, 8, 1, 5, 3, 5, 1, 2, 5, 6, 1, 0, 4, 0, 3, 1,\n",
              "       5, 5, 0, 8, 9, 3, 0, 1, 6, 8, 9, 0, 6, 4, 7, 3, 5, 8, 3, 6, 0, 2,\n",
              "       5, 1, 7, 1, 8, 7, 5, 3, 8, 8, 0, 1, 7, 8, 7, 0, 9, 9, 1, 2, 9, 4,\n",
              "       8, 5, 0, 7, 6, 4, 5, 7, 0, 4, 8, 3, 8, 4, 3, 6, 1, 6, 8, 3, 4, 7,\n",
              "       6, 4, 1, 3, 7, 5, 2, 7, 3, 4, 3, 7, 8, 2, 2, 2, 1, 6, 5, 0, 1, 9,\n",
              "       9, 2, 4, 3, 4, 7, 4, 5, 7, 1, 6, 7, 4, 4, 2, 0, 2, 5, 4, 2, 0, 8,\n",
              "       4, 8, 4, 3, 9, 4, 8, 0, 1, 6, 5, 6, 3, 4, 5, 2, 5, 1, 2, 1, 7, 1,\n",
              "       0, 0, 0, 5, 6, 5, 6, 4, 5, 6, 1, 1, 2, 3, 1, 2, 5, 8, 5, 4, 5, 6,\n",
              "       8, 5, 3, 9, 0, 4, 6, 7, 1, 6, 0, 1, 2, 5, 6, 2, 6, 7, 9, 7, 7, 6,\n",
              "       7, 0, 2, 2, 6, 3, 0, 3, 3, 3, 5, 4])"
            ]
          },
          "metadata": {},
          "execution_count": 31
        }
      ]
    },
    {
      "cell_type": "markdown",
      "source": [
        "**Model Accuracy**"
      ],
      "metadata": {
        "id": "7zmfTBuVoGOc"
      }
    },
    {
      "cell_type": "code",
      "source": [
        "from sklearn.metrics import confusion_matrix, classification_report"
      ],
      "metadata": {
        "id": "cr0bbOeeoKRY"
      },
      "execution_count": 32,
      "outputs": []
    },
    {
      "cell_type": "code",
      "source": [
        "confusion_matrix(y_test, y_pred)"
      ],
      "metadata": {
        "colab": {
          "base_uri": "https://localhost:8080/"
        },
        "id": "Fh1_FG3xoXXg",
        "outputId": "1747e958-80e1-4026-d5f7-63c7d77406a7"
      },
      "execution_count": 33,
      "outputs": [
        {
          "output_type": "execute_result",
          "data": {
            "text/plain": [
              "array([[57,  0,  0,  0,  1,  0,  0,  0,  0,  0],\n",
              "       [ 0, 56,  0,  0,  0,  0,  0,  0,  0,  0],\n",
              "       [ 0,  0, 50,  1,  0,  0,  0,  0,  0,  0],\n",
              "       [ 0,  0,  0, 48,  0,  1,  0,  1,  0,  1],\n",
              "       [ 0,  0,  0,  0, 51,  0,  0,  0,  0,  0],\n",
              "       [ 0,  0,  0,  0,  0, 63,  1,  0,  0,  1],\n",
              "       [ 1,  0,  1,  0,  0,  1, 56,  0,  0,  0],\n",
              "       [ 0,  0,  0,  0,  0,  0,  0, 46,  0,  0],\n",
              "       [ 1,  3,  0,  1,  0,  0,  0,  0, 53,  0],\n",
              "       [ 0,  0,  0,  1,  0,  0,  0,  3,  0, 41]])"
            ]
          },
          "metadata": {},
          "execution_count": 33
        }
      ]
    },
    {
      "cell_type": "code",
      "source": [
        "print(classification_report(y_test,y_pred))"
      ],
      "metadata": {
        "colab": {
          "base_uri": "https://localhost:8080/"
        },
        "id": "N-nhR7AOofqj",
        "outputId": "38f50f31-2acc-47a3-9bd6-b0d949ca55f4"
      },
      "execution_count": 34,
      "outputs": [
        {
          "output_type": "stream",
          "name": "stdout",
          "text": [
            "              precision    recall  f1-score   support\n",
            "\n",
            "           0       0.97      0.98      0.97        58\n",
            "           1       0.95      1.00      0.97        56\n",
            "           2       0.98      0.98      0.98        51\n",
            "           3       0.94      0.94      0.94        51\n",
            "           4       0.98      1.00      0.99        51\n",
            "           5       0.97      0.97      0.97        65\n",
            "           6       0.98      0.95      0.97        59\n",
            "           7       0.92      1.00      0.96        46\n",
            "           8       1.00      0.91      0.95        58\n",
            "           9       0.95      0.91      0.93        45\n",
            "\n",
            "    accuracy                           0.96       540\n",
            "   macro avg       0.96      0.96      0.96       540\n",
            "weighted avg       0.97      0.96      0.96       540\n",
            "\n"
          ]
        }
      ]
    }
  ]
}